{
  "cells": [
    {
      "cell_type": "markdown",
      "id": "72eca8f7",
      "metadata": {
        "id": "72eca8f7"
      },
      "source": [
        "## **Pendahuluan**\n",
        "\n",
        "Pada praktikum ini, kita akan membangun sebuah model klasifikasi gambar menggunakan TensorFlow dan Keras.\n",
        "Model ini akan digunakan untuk mengklasifikasikan gambar menjadi tiga kategori: **Rock, Paper, dan Scissors**.\n",
        "\n",
        "Agar proses pelatihan menjadi lebih efisien dan cepat, kita akan memanfaatkan teknik **Transfer Learning** dengan menggunakan model pre-trained **MobileNetV2** sebagai feature extractor.\n",
        "\n",
        "### **Dataset**\n",
        "\n",
        "Dataset yang digunakan dalam praktikum ini berasal dari Kaggle, dan dapat diunduh melalui tautan berikut:\n",
        "\n",
        "🔗 [Rock-Paper-Scissors Dataset – Kaggle](https://www.kaggle.com/datasets/drgfreeman/rockpaperscissors)\n",
        "\n",
        "Setelah mendownload dataset dan mengekstraknya, **praktikan diwajibkan** untuk menyusun struktur folder dataset menjadi seperti berikut:\n",
        "\n",
        "<pre>\n",
        "dataset/\n",
        "    rock/\n",
        "    paper/\n",
        "    scissor/\n",
        "</pre>\n",
        "\n"
      ]
    },
    {
      "cell_type": "code",
      "execution_count": 1,
      "id": "igaSp8uevG7R",
      "metadata": {
        "colab": {
          "base_uri": "https://localhost:8080/"
        },
        "id": "igaSp8uevG7R",
        "outputId": "875096d8-ffbb-4e0a-fc97-fc43b672903f"
      },
      "outputs": [
        {
          "name": "stdout",
          "output_type": "stream",
          "text": [
            "Mounted at /content/drive\n"
          ]
        }
      ],
      "source": [
        "from google.colab import drive\n",
        "drive.mount('/content/drive')"
      ]
    },
    {
      "cell_type": "markdown",
      "id": "54a03446",
      "metadata": {
        "id": "54a03446"
      },
      "source": [
        "### **Load Dataset**\n",
        "---\n",
        "\n",
        "Kode di bawah ini digunakan untuk memuat dataset citra dari struktur folder yang telah disiapkan sebelumnya.\n",
        "\n",
        "Praktikan diminta untuk:\n",
        "\n",
        "- Menentukan **ukuran gambar** (`img_size`) sesuai dengan model yang akan digunakan (misalnya 224x224 untuk MobileNetV2).\n",
        "- Mengatur **ukuran batch** (`batch_size`) sesuai kapasitas RAM/VRAM masing-masing.\n",
        "- Mengisi nilai **`seed`** untuk memastikan bahwa hasil pembagian data bisa direproduksi kembali dengan urutan yang sama setiap kali dijalankan.\n",
        "\n",
        "Dataset akan dibagi menjadi tiga bagian:\n",
        "- **Training set**: 70%\n",
        "- **Validation set**: 15%\n",
        "- **Testing set**: 15%\n",
        "\n",
        "Proses pemuatan data dilakukan dengan menggunakan fungsi bawaan TensorFlow, yaitu `image_dataset_from_directory()`, yang akan secara otomatis membaca gambar berdasarkan nama subfoldernya sebagai label.\n",
        "\n",
        "> **Catatan:**\n",
        "> Praktikan diperbolehkan untuk **menyesuaikan sendiri persentase pembagian data** (misalnya 80% train, 10% val, 10% test) selama proporsinya tetap konsisten dan masuk akal.  \n",
        "> Praktikan juga dapat mengubah **ukuran gambar (`img_size`)** jika ingin menggunakan arsitektur model yang berbeda, serta **mengganti nilai `seed`** untuk mencoba hasil pembagian data yang berbeda.\n",
        "\n",
        "Setelah training set dan validation+test set dimuat, validation dan test akan dipisahkan secara manual berdasarkan fraksi yang telah ditentukan.\n"
      ]
    },
    {
      "cell_type": "code",
      "execution_count": 2,
      "id": "d7363874",
      "metadata": {
        "colab": {
          "base_uri": "https://localhost:8080/"
        },
        "id": "d7363874",
        "outputId": "91cffb0a-8660-4fa4-83bb-67bc5bcbb350"
      },
      "outputs": [
        {
          "name": "stdout",
          "output_type": "stream",
          "text": [
            "Found 2188 files belonging to 3 classes.\n",
            "Using 1532 files for training.\n",
            "Found 2188 files belonging to 3 classes.\n",
            "Using 656 files for validation.\n"
          ]
        }
      ],
      "source": [
        "import tensorflow as tf\n",
        "from tensorflow.keras import layers\n",
        "import os\n",
        "\n",
        "# === PARAMETER YANG HARUS DITENTUKAN PRAKTIKAN ===\n",
        "dataset_dir = \"/content/drive/MyDrive/lectures/semester_6/ml/UAS/dataset\"          # folder utama dataset\n",
        "img_size    = (224, 224)         # ukuran gambar (isi sendiri)\n",
        "batch_size  = 32                # ukuran batch\n",
        "seed        = 32                # random seed untuk reproducibility\n",
        "\n",
        "# Dapatkan daftar kelas dari folder\n",
        "classes = sorted(os.listdir(dataset_dir))\n",
        "\n",
        "# === ATURAN SPLIT DATA ===\n",
        "train_frac = 0.70\n",
        "val_frac   = 0.15\n",
        "test_frac  = 0.15\n",
        "vt_frac    = val_frac + test_frac   # val + test (untuk split manual nanti)\n",
        "\n",
        "# === MEMUAT TRAIN DATASET ===\n",
        "train_ds = tf.keras.preprocessing.image_dataset_from_directory(\n",
        "    dataset_dir,\n",
        "    validation_split=vt_frac,\n",
        "    subset=\"training\",\n",
        "    seed=seed,\n",
        "    image_size=img_size,\n",
        "    batch_size=batch_size,\n",
        "    label_mode=\"categorical\",        # gunakan one-hot encoding\n",
        ")\n",
        "\n",
        "# === MEMUAT VALIDATION + TEST DATASET (gabungan) ===\n",
        "val_test_ds = tf.keras.preprocessing.image_dataset_from_directory(\n",
        "    dataset_dir,\n",
        "    validation_split=vt_frac,\n",
        "    subset=\"validation\",\n",
        "    seed=seed,\n",
        "    image_size=img_size,\n",
        "    batch_size=batch_size,\n",
        "    label_mode=\"categorical\",\n",
        ")\n",
        "\n",
        "# === SPLIT VAL DAN TEST SECARA MANUAL ===\n",
        "vt_batches  = tf.data.experimental.cardinality(val_test_ds).numpy()\n",
        "val_batches = int(vt_batches * (val_frac / vt_frac))   # hitung proporsi val dalam val+test\n",
        "\n",
        "val_ds  = val_test_ds.take(val_batches)\n",
        "test_ds = val_test_ds.skip(val_batches)\n"
      ]
    },
    {
      "cell_type": "markdown",
      "id": "8b3f393e",
      "metadata": {
        "id": "8b3f393e"
      },
      "source": [
        "### **Preprocessing dan Augmentasi Data**\n",
        "---\n",
        "\n",
        "Sebelum gambar dapat digunakan untuk melatih model, dataset perlu melalui proses **preprocessing** terlebih dahulu. Preprocessing ini bertujuan untuk memastikan bahwa semua input gambar berada dalam skala nilai yang konsisten dan sesuai dengan ekspektasi dari model.\n",
        "\n",
        "Pada praktikum ini, preprocessing dilakukan melalui dua tahap:\n",
        "\n",
        "1. **Normalisasi**:  \n",
        "   Setiap pixel gambar yang awalnya berada pada rentang nilai **[0, 255]** diubah ke rentang **[0, 1]** dengan menggunakan layer `Rescaling(1./255)`.\n",
        "\n",
        "2. **Augmentasi** (opsional):  \n",
        "   Untuk meningkatkan variasi data dan mengurangi overfitting, dilakukan augmentasi pada **data training saja**. Augmentasi dilakukan melalui transformasi berikut:\n",
        "   - `RandomFlip(\"horizontal\")`: membalik gambar secara horizontal.\n",
        "   - `RandomRotation(0.1)`: memutar gambar secara acak hingga 10%.\n",
        "   - `RandomZoom(0.1, 0.1)`: melakukan zoom in/out hingga 10%.\n",
        "   - `RandomContrast(0.1)`: mengubah kontras gambar secara acak hingga ±10%.\n",
        "\n",
        "Semua preprocessing dan augmentasi dilakukan melalui fungsi `prep()`.  \n",
        "Fungsi ini menerima parameter `augment` untuk menentukan apakah augmentasi akan diterapkan atau tidak.  \n",
        "- Jika `augment=True`, maka data akan dinormalisasi lalu diaugmentasi.  \n",
        "- Jika `augment=False`, maka hanya normalisasi yang dilakukan (untuk validation dan test set).\n",
        "\n",
        "Setelah diproses, setiap dataset akan di-cache dan di-prefetch menggunakan `AUTOTUNE` untuk mengoptimalkan performa saat training.\n",
        "\n",
        "> **Catatan untuk praktikan:**  \n",
        "> Praktikan dapat menyesuaikan jenis dan tingkat augmentasi pada `aug_layer` untuk melihat pengaruhnya terhadap performa model. Namun, augmentasi **hanya boleh diterapkan pada training set**.\n"
      ]
    },
    {
      "cell_type": "code",
      "execution_count": 3,
      "id": "3a16769f",
      "metadata": {
        "id": "3a16769f"
      },
      "outputs": [],
      "source": [
        "from tensorflow.keras import layers\n",
        "\n",
        "# praktikan diminta melengkapi isi preprocessing dan augmentasi\n",
        "norm_layer = tf.keras.Sequential([\n",
        "    layers.Rescaling(1./255),  # lengkapi: normalisasi ke [0,1]\n",
        "])\n",
        "\n",
        "aug_layer = tf.keras.Sequential([\n",
        "    layers.RandomFlip(\"horizontal\"),    # flip kiri-kanan\n",
        "    layers.RandomRotation(0.1),         # rotasi ±10%\n",
        "    layers.RandomZoom(0.1, 0.1),        # zoom in/out sampai 10%\n",
        "    layers.RandomContrast(0.1),         # kontras +-10%\n",
        "])\n",
        "\n",
        "# fungsi untuk mempersiapkan dataset\n",
        "def prep(ds, augment=False):\n",
        "    if augment:\n",
        "        ds = ds.map(lambda x, y: (aug_layer(norm_layer(x), training=True), y),\n",
        "                    num_parallel_calls=tf.data.AUTOTUNE)\n",
        "    else:\n",
        "        ds = ds.map(lambda x, y: (norm_layer(x), y),\n",
        "                    num_parallel_calls=tf.data.AUTOTUNE)\n",
        "\n",
        "    return ds.cache().prefetch(tf.data.AUTOTUNE)\n",
        "\n",
        "# Praktikan diminta menentukan kapan augmentasi diaktifkan\n",
        "train_ds = prep(train_ds, augment=True) # augmentasi hanya untuk training\n",
        "val_ds   = prep(val_ds,   augment=False) # tidak perlu augmentasi untuk validation\n",
        "test_ds  = prep(test_ds,  augment=False) # tidak perlu augmentasi untuk test\n"
      ]
    },
    {
      "cell_type": "markdown",
      "id": "4c6a1510",
      "metadata": {
        "id": "4c6a1510"
      },
      "source": [
        "### **Build Model dan Training**\n",
        "---\n",
        "\n",
        "Pada tahap ini, kita akan membangun arsitektur model menggunakan teknik **Transfer Learning** dengan memanfaatkan **MobileNetV2** sebagai feature extractor.\n",
        "\n",
        "Praktikan diminta untuk:\n",
        "\n",
        "- **Melengkapi input layer** (`inputs`) dengan ukuran shape gambar yang sesuai.\n",
        "- **Melengkapi output layer** (`outputs`) dengan jumlah neuron yang sama dengan jumlah kelas target (jumlah kategori pada dataset).\n",
        "\n",
        "Bagian head klasifikasi model disusun dengan struktur:\n",
        "\n",
        "- **GlobalAveragePooling2D**: Mengubah output feature map menjadi satu vektor rata-rata per channel.\n",
        "- **Dropout**: Teknik regularisasi untuk mengurangi overfitting.\n",
        "- **Dense (Softmax)**: Layer output yang mengklasifikasikan input ke dalam salah satu kelas.\n",
        "\n",
        "---\n",
        "\n",
        "### **Training Model**\n",
        "\n",
        "Sebelum memulai proses pelatihan, kita juga telah mendefinisikan dua buah callbacks:\n",
        "\n",
        "- `EarlyStopping`: Untuk menghentikan pelatihan jika validation loss tidak membaik setelah sejumlah epoch tertentu.\n",
        "- `ModelCheckpoint`: Untuk menyimpan model terbaik berdasarkan validation loss.\n",
        "\n",
        "Praktikan diminta untuk:\n",
        "\n",
        "- **Melengkapi list callbacks** di fungsi `model.fit()`, dengan menambahkan kedua callbacks yang telah dibuat sebelumnya (`early_stopping` dan `model_checkpoint`).\n",
        "- Menjalankan training selama **50 epoch** atau hingga proses berhenti otomatis karena `EarlyStopping`.\n",
        "\n",
        "> **Catatan:**  \n",
        "> Dengan menggunakan callbacks, kita dapat menghindari overfitting dan memastikan model terbaik tersimpan otomatis.\n",
        "\n"
      ]
    },
    {
      "cell_type": "code",
      "execution_count": 4,
      "id": "575df2ea",
      "metadata": {
        "colab": {
          "base_uri": "https://localhost:8080/"
        },
        "id": "575df2ea",
        "outputId": "67a75bb3-be4d-4316-a069-03feb5ab20eb"
      },
      "outputs": [
        {
          "name": "stdout",
          "output_type": "stream",
          "text": [
            "Downloading data from https://storage.googleapis.com/tensorflow/keras-applications/mobilenet_v2/mobilenet_v2_weights_tf_dim_ordering_tf_kernels_1.0_224_no_top.h5\n",
            "\u001b[1m9406464/9406464\u001b[0m \u001b[32m━━━━━━━━━━━━━━━━━━━━\u001b[0m\u001b[37m\u001b[0m \u001b[1m2s\u001b[0m 0us/step\n",
            "Epoch 1/50\n",
            "\u001b[1m48/48\u001b[0m \u001b[32m━━━━━━━━━━━━━━━━━━━━\u001b[0m\u001b[37m\u001b[0m \u001b[1m0s\u001b[0m 8s/step - accuracy: 0.6053 - loss: 0.8632"
          ]
        },
        {
          "name": "stderr",
          "output_type": "stream",
          "text": [
            "WARNING:absl:You are saving your model as an HDF5 file via `model.save()` or `keras.saving.save_model(model)`. This file format is considered legacy. We recommend using instead the native Keras format, e.g. `model.save('my_model.keras')` or `keras.saving.save_model(model, 'my_model.keras')`. \n"
          ]
        },
        {
          "name": "stdout",
          "output_type": "stream",
          "text": [
            "\b\b\b\b\b\b\b\b\b\b\b\b\b\b\b\b\b\b\b\b\b\b\b\b\b\b\b\b\b\b\b\b\b\b\b\b\b\b\b\b\b\b\b\b\b\b\b\b\b\b\b\b\b\b\b\b\b\b\b\b\b\b\b\b\b\b\b\b\b\b\b\r\u001b[1m48/48\u001b[0m \u001b[32m━━━━━━━━━━━━━━━━━━━━\u001b[0m\u001b[37m\u001b[0m \u001b[1m455s\u001b[0m 9s/step - accuracy: 0.6089 - loss: 0.8567 - val_accuracy: 0.9375 - val_loss: 0.2278\n",
            "Epoch 2/50\n",
            "\u001b[1m47/48\u001b[0m \u001b[32m━━━━━━━━━━━━━━━━━━━\u001b[0m\u001b[37m━\u001b[0m \u001b[1m0s\u001b[0m 30ms/step - accuracy: 0.9654 - loss: 0.1519"
          ]
        },
        {
          "name": "stderr",
          "output_type": "stream",
          "text": [
            "WARNING:absl:You are saving your model as an HDF5 file via `model.save()` or `keras.saving.save_model(model)`. This file format is considered legacy. We recommend using instead the native Keras format, e.g. `model.save('my_model.keras')` or `keras.saving.save_model(model, 'my_model.keras')`. \n"
          ]
        },
        {
          "name": "stdout",
          "output_type": "stream",
          "text": [
            "\b\b\b\b\b\b\b\b\b\b\b\b\b\b\b\b\b\b\b\b\b\b\b\b\b\b\b\b\b\b\b\b\b\b\b\b\b\b\b\b\b\b\b\b\b\b\b\b\b\b\b\b\b\b\b\b\b\b\b\b\b\b\b\b\b\b\b\b\b\b\b\b\b\r\u001b[1m48/48\u001b[0m \u001b[32m━━━━━━━━━━━━━━━━━━━━\u001b[0m\u001b[37m\u001b[0m \u001b[1m2s\u001b[0m 42ms/step - accuracy: 0.9656 - loss: 0.1515 - val_accuracy: 0.9656 - val_loss: 0.1369\n",
            "Epoch 3/50\n",
            "\u001b[1m47/48\u001b[0m \u001b[32m━━━━━━━━━━━━━━━━━━━\u001b[0m\u001b[37m━\u001b[0m \u001b[1m0s\u001b[0m 31ms/step - accuracy: 0.9826 - loss: 0.0937"
          ]
        },
        {
          "name": "stderr",
          "output_type": "stream",
          "text": [
            "WARNING:absl:You are saving your model as an HDF5 file via `model.save()` or `keras.saving.save_model(model)`. This file format is considered legacy. We recommend using instead the native Keras format, e.g. `model.save('my_model.keras')` or `keras.saving.save_model(model, 'my_model.keras')`. \n"
          ]
        },
        {
          "name": "stdout",
          "output_type": "stream",
          "text": [
            "\b\b\b\b\b\b\b\b\b\b\b\b\b\b\b\b\b\b\b\b\b\b\b\b\b\b\b\b\b\b\b\b\b\b\b\b\b\b\b\b\b\b\b\b\b\b\b\b\b\b\b\b\b\b\b\b\b\b\b\b\b\b\b\b\b\b\b\b\b\b\b\b\b\r\u001b[1m48/48\u001b[0m \u001b[32m━━━━━━━━━━━━━━━━━━━━\u001b[0m\u001b[37m\u001b[0m \u001b[1m3s\u001b[0m 48ms/step - accuracy: 0.9827 - loss: 0.0936 - val_accuracy: 0.9781 - val_loss: 0.1092\n",
            "Epoch 4/50\n",
            "\u001b[1m47/48\u001b[0m \u001b[32m━━━━━━━━━━━━━━━━━━━\u001b[0m\u001b[37m━\u001b[0m \u001b[1m0s\u001b[0m 30ms/step - accuracy: 0.9868 - loss: 0.0715"
          ]
        },
        {
          "name": "stderr",
          "output_type": "stream",
          "text": [
            "WARNING:absl:You are saving your model as an HDF5 file via `model.save()` or `keras.saving.save_model(model)`. This file format is considered legacy. We recommend using instead the native Keras format, e.g. `model.save('my_model.keras')` or `keras.saving.save_model(model, 'my_model.keras')`. \n"
          ]
        },
        {
          "name": "stdout",
          "output_type": "stream",
          "text": [
            "\b\b\b\b\b\b\b\b\b\b\b\b\b\b\b\b\b\b\b\b\b\b\b\b\b\b\b\b\b\b\b\b\b\b\b\b\b\b\b\b\b\b\b\b\b\b\b\b\b\b\b\b\b\b\b\b\b\b\b\b\b\b\b\b\b\b\b\b\b\b\b\b\b\r\u001b[1m48/48\u001b[0m \u001b[32m━━━━━━━━━━━━━━━━━━━━\u001b[0m\u001b[37m\u001b[0m \u001b[1m2s\u001b[0m 42ms/step - accuracy: 0.9867 - loss: 0.0716 - val_accuracy: 0.9781 - val_loss: 0.0814\n",
            "Epoch 5/50\n",
            "\u001b[1m47/48\u001b[0m \u001b[32m━━━━━━━━━━━━━━━━━━━\u001b[0m\u001b[37m━\u001b[0m \u001b[1m0s\u001b[0m 29ms/step - accuracy: 0.9875 - loss: 0.0589"
          ]
        },
        {
          "name": "stderr",
          "output_type": "stream",
          "text": [
            "WARNING:absl:You are saving your model as an HDF5 file via `model.save()` or `keras.saving.save_model(model)`. This file format is considered legacy. We recommend using instead the native Keras format, e.g. `model.save('my_model.keras')` or `keras.saving.save_model(model, 'my_model.keras')`. \n"
          ]
        },
        {
          "name": "stdout",
          "output_type": "stream",
          "text": [
            "\b\b\b\b\b\b\b\b\b\b\b\b\b\b\b\b\b\b\b\b\b\b\b\b\b\b\b\b\b\b\b\b\b\b\b\b\b\b\b\b\b\b\b\b\b\b\b\b\b\b\b\b\b\b\b\b\b\b\b\b\b\b\b\b\b\b\b\b\b\b\b\b\b\r\u001b[1m48/48\u001b[0m \u001b[32m━━━━━━━━━━━━━━━━━━━━\u001b[0m\u001b[37m\u001b[0m \u001b[1m2s\u001b[0m 41ms/step - accuracy: 0.9876 - loss: 0.0588 - val_accuracy: 0.9812 - val_loss: 0.0584\n",
            "Epoch 6/50\n",
            "\u001b[1m47/48\u001b[0m \u001b[32m━━━━━━━━━━━━━━━━━━━\u001b[0m\u001b[37m━\u001b[0m \u001b[1m0s\u001b[0m 29ms/step - accuracy: 0.9953 - loss: 0.0433"
          ]
        },
        {
          "name": "stderr",
          "output_type": "stream",
          "text": [
            "WARNING:absl:You are saving your model as an HDF5 file via `model.save()` or `keras.saving.save_model(model)`. This file format is considered legacy. We recommend using instead the native Keras format, e.g. `model.save('my_model.keras')` or `keras.saving.save_model(model, 'my_model.keras')`. \n"
          ]
        },
        {
          "name": "stdout",
          "output_type": "stream",
          "text": [
            "\b\b\b\b\b\b\b\b\b\b\b\b\b\b\b\b\b\b\b\b\b\b\b\b\b\b\b\b\b\b\b\b\b\b\b\b\b\b\b\b\b\b\b\b\b\b\b\b\b\b\b\b\b\b\b\b\b\b\b\b\b\b\b\b\b\b\b\b\b\b\b\b\b\r\u001b[1m48/48\u001b[0m \u001b[32m━━━━━━━━━━━━━━━━━━━━\u001b[0m\u001b[37m\u001b[0m \u001b[1m3s\u001b[0m 42ms/step - accuracy: 0.9951 - loss: 0.0435 - val_accuracy: 0.9844 - val_loss: 0.0520\n",
            "Epoch 7/50\n",
            "\u001b[1m48/48\u001b[0m \u001b[32m━━━━━━━━━━━━━━━━━━━━\u001b[0m\u001b[37m\u001b[0m \u001b[1m2s\u001b[0m 34ms/step - accuracy: 0.9938 - loss: 0.0374 - val_accuracy: 0.9844 - val_loss: 0.0520\n",
            "Epoch 8/50\n",
            "\u001b[1m47/48\u001b[0m \u001b[32m━━━━━━━━━━━━━━━━━━━\u001b[0m\u001b[37m━\u001b[0m \u001b[1m0s\u001b[0m 29ms/step - accuracy: 0.9965 - loss: 0.0298"
          ]
        },
        {
          "name": "stderr",
          "output_type": "stream",
          "text": [
            "WARNING:absl:You are saving your model as an HDF5 file via `model.save()` or `keras.saving.save_model(model)`. This file format is considered legacy. We recommend using instead the native Keras format, e.g. `model.save('my_model.keras')` or `keras.saving.save_model(model, 'my_model.keras')`. \n"
          ]
        },
        {
          "name": "stdout",
          "output_type": "stream",
          "text": [
            "\b\b\b\b\b\b\b\b\b\b\b\b\b\b\b\b\b\b\b\b\b\b\b\b\b\b\b\b\b\b\b\b\b\b\b\b\b\b\b\b\b\b\b\b\b\b\b\b\b\b\b\b\b\b\b\b\b\b\b\b\b\b\b\b\b\b\b\b\b\b\b\b\b\r\u001b[1m48/48\u001b[0m \u001b[32m━━━━━━━━━━━━━━━━━━━━\u001b[0m\u001b[37m\u001b[0m \u001b[1m3s\u001b[0m 43ms/step - accuracy: 0.9964 - loss: 0.0300 - val_accuracy: 0.9875 - val_loss: 0.0387\n",
            "Epoch 9/50\n",
            "\u001b[1m47/48\u001b[0m \u001b[32m━━━━━━━━━━━━━━━━━━━\u001b[0m\u001b[37m━\u001b[0m \u001b[1m0s\u001b[0m 31ms/step - accuracy: 0.9966 - loss: 0.0277"
          ]
        },
        {
          "name": "stderr",
          "output_type": "stream",
          "text": [
            "WARNING:absl:You are saving your model as an HDF5 file via `model.save()` or `keras.saving.save_model(model)`. This file format is considered legacy. We recommend using instead the native Keras format, e.g. `model.save('my_model.keras')` or `keras.saving.save_model(model, 'my_model.keras')`. \n"
          ]
        },
        {
          "name": "stdout",
          "output_type": "stream",
          "text": [
            "\b\b\b\b\b\b\b\b\b\b\b\b\b\b\b\b\b\b\b\b\b\b\b\b\b\b\b\b\b\b\b\b\b\b\b\b\b\b\b\b\b\b\b\b\b\b\b\b\b\b\b\b\b\b\b\b\b\b\b\b\b\b\b\b\b\b\b\b\b\b\b\b\b\r\u001b[1m48/48\u001b[0m \u001b[32m━━━━━━━━━━━━━━━━━━━━\u001b[0m\u001b[37m\u001b[0m \u001b[1m2s\u001b[0m 48ms/step - accuracy: 0.9966 - loss: 0.0278 - val_accuracy: 0.9969 - val_loss: 0.0317\n",
            "Epoch 10/50\n",
            "\u001b[1m47/48\u001b[0m \u001b[32m━━━━━━━━━━━━━━━━━━━\u001b[0m\u001b[37m━\u001b[0m \u001b[1m0s\u001b[0m 30ms/step - accuracy: 0.9970 - loss: 0.0235"
          ]
        },
        {
          "name": "stderr",
          "output_type": "stream",
          "text": [
            "WARNING:absl:You are saving your model as an HDF5 file via `model.save()` or `keras.saving.save_model(model)`. This file format is considered legacy. We recommend using instead the native Keras format, e.g. `model.save('my_model.keras')` or `keras.saving.save_model(model, 'my_model.keras')`. \n"
          ]
        },
        {
          "name": "stdout",
          "output_type": "stream",
          "text": [
            "\b\b\b\b\b\b\b\b\b\b\b\b\b\b\b\b\b\b\b\b\b\b\b\b\b\b\b\b\b\b\b\b\b\b\b\b\b\b\b\b\b\b\b\b\b\b\b\b\b\b\b\b\b\b\b\b\b\b\b\b\b\b\b\b\b\b\b\b\b\b\b\b\b\r\u001b[1m48/48\u001b[0m \u001b[32m━━━━━━━━━━━━━━━━━━━━\u001b[0m\u001b[37m\u001b[0m \u001b[1m2s\u001b[0m 42ms/step - accuracy: 0.9969 - loss: 0.0236 - val_accuracy: 0.9969 - val_loss: 0.0296\n",
            "Epoch 11/50\n",
            "\u001b[1m47/48\u001b[0m \u001b[32m━━━━━━━━━━━━━━━━━━━\u001b[0m\u001b[37m━\u001b[0m \u001b[1m0s\u001b[0m 29ms/step - accuracy: 0.9975 - loss: 0.0226"
          ]
        },
        {
          "name": "stderr",
          "output_type": "stream",
          "text": [
            "WARNING:absl:You are saving your model as an HDF5 file via `model.save()` or `keras.saving.save_model(model)`. This file format is considered legacy. We recommend using instead the native Keras format, e.g. `model.save('my_model.keras')` or `keras.saving.save_model(model, 'my_model.keras')`. \n"
          ]
        },
        {
          "name": "stdout",
          "output_type": "stream",
          "text": [
            "\b\b\b\b\b\b\b\b\b\b\b\b\b\b\b\b\b\b\b\b\b\b\b\b\b\b\b\b\b\b\b\b\b\b\b\b\b\b\b\b\b\b\b\b\b\b\b\b\b\b\b\b\b\b\b\b\b\b\b\b\b\b\b\b\b\b\b\b\b\b\b\b\b\r\u001b[1m48/48\u001b[0m \u001b[32m━━━━━━━━━━━━━━━━━━━━\u001b[0m\u001b[37m\u001b[0m \u001b[1m3s\u001b[0m 42ms/step - accuracy: 0.9975 - loss: 0.0226 - val_accuracy: 0.9969 - val_loss: 0.0279\n",
            "Epoch 12/50\n",
            "\u001b[1m47/48\u001b[0m \u001b[32m━━━━━━━━━━━━━━━━━━━\u001b[0m\u001b[37m━\u001b[0m \u001b[1m0s\u001b[0m 29ms/step - accuracy: 0.9976 - loss: 0.0179"
          ]
        },
        {
          "name": "stderr",
          "output_type": "stream",
          "text": [
            "WARNING:absl:You are saving your model as an HDF5 file via `model.save()` or `keras.saving.save_model(model)`. This file format is considered legacy. We recommend using instead the native Keras format, e.g. `model.save('my_model.keras')` or `keras.saving.save_model(model, 'my_model.keras')`. \n"
          ]
        },
        {
          "name": "stdout",
          "output_type": "stream",
          "text": [
            "\b\b\b\b\b\b\b\b\b\b\b\b\b\b\b\b\b\b\b\b\b\b\b\b\b\b\b\b\b\b\b\b\b\b\b\b\b\b\b\b\b\b\b\b\b\b\b\b\b\b\b\b\b\b\b\b\b\b\b\b\b\b\b\b\b\b\b\b\b\b\b\b\b\r\u001b[1m48/48\u001b[0m \u001b[32m━━━━━━━━━━━━━━━━━━━━\u001b[0m\u001b[37m\u001b[0m \u001b[1m2s\u001b[0m 41ms/step - accuracy: 0.9975 - loss: 0.0181 - val_accuracy: 0.9969 - val_loss: 0.0233\n",
            "Epoch 13/50\n",
            "\u001b[1m48/48\u001b[0m \u001b[32m━━━━━━━━━━━━━━━━━━━━\u001b[0m\u001b[37m\u001b[0m \u001b[1m2s\u001b[0m 34ms/step - accuracy: 0.9989 - loss: 0.0160 - val_accuracy: 0.9969 - val_loss: 0.0242\n",
            "Epoch 14/50\n",
            "\u001b[1m47/48\u001b[0m \u001b[32m━━━━━━━━━━━━━━━━━━━\u001b[0m\u001b[37m━\u001b[0m \u001b[1m0s\u001b[0m 29ms/step - accuracy: 0.9979 - loss: 0.0155"
          ]
        },
        {
          "name": "stderr",
          "output_type": "stream",
          "text": [
            "WARNING:absl:You are saving your model as an HDF5 file via `model.save()` or `keras.saving.save_model(model)`. This file format is considered legacy. We recommend using instead the native Keras format, e.g. `model.save('my_model.keras')` or `keras.saving.save_model(model, 'my_model.keras')`. \n"
          ]
        },
        {
          "name": "stdout",
          "output_type": "stream",
          "text": [
            "\b\b\b\b\b\b\b\b\b\b\b\b\b\b\b\b\b\b\b\b\b\b\b\b\b\b\b\b\b\b\b\b\b\b\b\b\b\b\b\b\b\b\b\b\b\b\b\b\b\b\b\b\b\b\b\b\b\b\b\b\b\b\b\b\b\b\b\b\b\b\b\b\b\r\u001b[1m48/48\u001b[0m \u001b[32m━━━━━━━━━━━━━━━━━━━━\u001b[0m\u001b[37m\u001b[0m \u001b[1m2s\u001b[0m 44ms/step - accuracy: 0.9979 - loss: 0.0156 - val_accuracy: 0.9969 - val_loss: 0.0228\n",
            "Epoch 15/50\n",
            "\u001b[1m47/48\u001b[0m \u001b[32m━━━━━━━━━━━━━━━━━━━\u001b[0m\u001b[37m━\u001b[0m \u001b[1m0s\u001b[0m 31ms/step - accuracy: 0.9991 - loss: 0.0136"
          ]
        },
        {
          "name": "stderr",
          "output_type": "stream",
          "text": [
            "WARNING:absl:You are saving your model as an HDF5 file via `model.save()` or `keras.saving.save_model(model)`. This file format is considered legacy. We recommend using instead the native Keras format, e.g. `model.save('my_model.keras')` or `keras.saving.save_model(model, 'my_model.keras')`. \n"
          ]
        },
        {
          "name": "stdout",
          "output_type": "stream",
          "text": [
            "\b\b\b\b\b\b\b\b\b\b\b\b\b\b\b\b\b\b\b\b\b\b\b\b\b\b\b\b\b\b\b\b\b\b\b\b\b\b\b\b\b\b\b\b\b\b\b\b\b\b\b\b\b\b\b\b\b\b\b\b\b\b\b\b\b\b\b\b\b\b\b\b\b\r\u001b[1m48/48\u001b[0m \u001b[32m━━━━━━━━━━━━━━━━━━━━\u001b[0m\u001b[37m\u001b[0m \u001b[1m2s\u001b[0m 47ms/step - accuracy: 0.9991 - loss: 0.0136 - val_accuracy: 0.9969 - val_loss: 0.0219\n",
            "Epoch 16/50\n",
            "\u001b[1m47/48\u001b[0m \u001b[32m━━━━━━━━━━━━━━━━━━━\u001b[0m\u001b[37m━\u001b[0m \u001b[1m0s\u001b[0m 30ms/step - accuracy: 0.9988 - loss: 0.0131"
          ]
        },
        {
          "name": "stderr",
          "output_type": "stream",
          "text": [
            "WARNING:absl:You are saving your model as an HDF5 file via `model.save()` or `keras.saving.save_model(model)`. This file format is considered legacy. We recommend using instead the native Keras format, e.g. `model.save('my_model.keras')` or `keras.saving.save_model(model, 'my_model.keras')`. \n"
          ]
        },
        {
          "name": "stdout",
          "output_type": "stream",
          "text": [
            "\b\b\b\b\b\b\b\b\b\b\b\b\b\b\b\b\b\b\b\b\b\b\b\b\b\b\b\b\b\b\b\b\b\b\b\b\b\b\b\b\b\b\b\b\b\b\b\b\b\b\b\b\b\b\b\b\b\b\b\b\b\b\b\b\b\b\b\b\b\b\b\b\b\r\u001b[1m48/48\u001b[0m \u001b[32m━━━━━━━━━━━━━━━━━━━━\u001b[0m\u001b[37m\u001b[0m \u001b[1m2s\u001b[0m 43ms/step - accuracy: 0.9987 - loss: 0.0132 - val_accuracy: 0.9969 - val_loss: 0.0209\n",
            "Epoch 17/50\n",
            "\u001b[1m47/48\u001b[0m \u001b[32m━━━━━━━━━━━━━━━━━━━\u001b[0m\u001b[37m━\u001b[0m \u001b[1m0s\u001b[0m 29ms/step - accuracy: 0.9983 - loss: 0.0118"
          ]
        },
        {
          "name": "stderr",
          "output_type": "stream",
          "text": [
            "WARNING:absl:You are saving your model as an HDF5 file via `model.save()` or `keras.saving.save_model(model)`. This file format is considered legacy. We recommend using instead the native Keras format, e.g. `model.save('my_model.keras')` or `keras.saving.save_model(model, 'my_model.keras')`. \n"
          ]
        },
        {
          "name": "stdout",
          "output_type": "stream",
          "text": [
            "\b\b\b\b\b\b\b\b\b\b\b\b\b\b\b\b\b\b\b\b\b\b\b\b\b\b\b\b\b\b\b\b\b\b\b\b\b\b\b\b\b\b\b\b\b\b\b\b\b\b\b\b\b\b\b\b\b\b\b\b\b\b\b\b\b\b\b\b\b\b\b\b\b\r\u001b[1m48/48\u001b[0m \u001b[32m━━━━━━━━━━━━━━━━━━━━\u001b[0m\u001b[37m\u001b[0m \u001b[1m2s\u001b[0m 41ms/step - accuracy: 0.9982 - loss: 0.0119 - val_accuracy: 0.9969 - val_loss: 0.0169\n",
            "Epoch 18/50\n",
            "\u001b[1m48/48\u001b[0m \u001b[32m━━━━━━━━━━━━━━━━━━━━\u001b[0m\u001b[37m\u001b[0m \u001b[1m2s\u001b[0m 34ms/step - accuracy: 0.9989 - loss: 0.0129 - val_accuracy: 0.9969 - val_loss: 0.0200\n",
            "Epoch 19/50\n",
            "\u001b[1m47/48\u001b[0m \u001b[32m━━━━━━━━━━━━━━━━━━━\u001b[0m\u001b[37m━\u001b[0m \u001b[1m0s\u001b[0m 29ms/step - accuracy: 0.9980 - loss: 0.0123"
          ]
        },
        {
          "name": "stderr",
          "output_type": "stream",
          "text": [
            "WARNING:absl:You are saving your model as an HDF5 file via `model.save()` or `keras.saving.save_model(model)`. This file format is considered legacy. We recommend using instead the native Keras format, e.g. `model.save('my_model.keras')` or `keras.saving.save_model(model, 'my_model.keras')`. \n"
          ]
        },
        {
          "name": "stdout",
          "output_type": "stream",
          "text": [
            "\b\b\b\b\b\b\b\b\b\b\b\b\b\b\b\b\b\b\b\b\b\b\b\b\b\b\b\b\b\b\b\b\b\b\b\b\b\b\b\b\b\b\b\b\b\b\b\b\b\b\b\b\b\b\b\b\b\b\b\b\b\b\b\b\b\b\b\b\b\b\b\b\b\r\u001b[1m48/48\u001b[0m \u001b[32m━━━━━━━━━━━━━━━━━━━━\u001b[0m\u001b[37m\u001b[0m \u001b[1m2s\u001b[0m 41ms/step - accuracy: 0.9980 - loss: 0.0124 - val_accuracy: 0.9969 - val_loss: 0.0160\n",
            "Epoch 20/50\n",
            "\u001b[1m48/48\u001b[0m \u001b[32m━━━━━━━━━━━━━━━━━━━━\u001b[0m\u001b[37m\u001b[0m \u001b[1m2s\u001b[0m 34ms/step - accuracy: 0.9993 - loss: 0.0099 - val_accuracy: 0.9969 - val_loss: 0.0210\n",
            "Epoch 21/50\n",
            "\u001b[1m48/48\u001b[0m \u001b[32m━━━━━━━━━━━━━━━━━━━━\u001b[0m\u001b[37m\u001b[0m \u001b[1m2s\u001b[0m 36ms/step - accuracy: 0.9997 - loss: 0.0103 - val_accuracy: 0.9969 - val_loss: 0.0167\n",
            "Epoch 22/50\n",
            "\u001b[1m48/48\u001b[0m \u001b[32m━━━━━━━━━━━━━━━━━━━━\u001b[0m\u001b[37m\u001b[0m \u001b[1m3s\u001b[0m 36ms/step - accuracy: 0.9996 - loss: 0.0075 - val_accuracy: 0.9969 - val_loss: 0.0177\n"
          ]
        }
      ],
      "source": [
        "import tensorflow as tf\n",
        "from tensorflow.keras import layers, models, callbacks\n",
        "from tensorflow.keras.applications import MobileNetV2\n",
        "\n",
        "# Load pre-trained base\n",
        "base_model = MobileNetV2(\n",
        "    input_shape=(*img_size, 3),\n",
        "    include_top=False,\n",
        "    weights=\"imagenet\"\n",
        ")\n",
        "base_model.trainable = False\n",
        "\n",
        "# Tambahkan head klasifikasi baru\n",
        "# Praktikan diminta melengkapi bagian input dan output di bawah ini\n",
        "# Lengkapi bagian yang kosong dengan menyusun arsitektur head klasifikasi\n",
        "inputs = tf.keras.Input(shape=(*img_size, 3))    # Tentukan input shape\n",
        "x = base_model(inputs, training=False)\n",
        "x = layers.GlobalAveragePooling2D()(x)\n",
        "x = layers.Dropout(0.2)(x)\n",
        "outputs = layers.Dense(len(classes), activation=\"softmax\")(x)  # Tentukan jumlah output classes\n",
        "model = models.Model(inputs, outputs)\n",
        "\n",
        "# Compile model\n",
        "model.compile(\n",
        "    optimizer  = \"adam\",\n",
        "    loss       = \"categorical_crossentropy\",\n",
        "    metrics    = [\"accuracy\"]\n",
        ")\n",
        "\n",
        "# Callbacks\n",
        "early_stopping = callbacks.EarlyStopping(\n",
        "    monitor    = \"val_loss\",\n",
        "    patience   = 3,\n",
        "    restore_best_weights=True\n",
        ")\n",
        "model_checkpoint = callbacks.ModelCheckpoint(\n",
        "    \"best_transfer.h5\",\n",
        "    monitor=\"val_loss\",\n",
        "    save_best_only=True\n",
        ")\n",
        "\n",
        "# Training model\n",
        "# Praktikan diminta melengkapi callbacks yang digunakan\n",
        "history = model.fit(\n",
        "    train_ds,\n",
        "    validation_data=val_ds,\n",
        "    epochs=50,\n",
        "    callbacks=[early_stopping, model_checkpoint]    # Lengkapi dengan callbacks yang telah dibuat\n",
        ")\n"
      ]
    },
    {
      "cell_type": "markdown",
      "id": "957bf440",
      "metadata": {
        "id": "957bf440"
      },
      "source": [
        "### **Evaluasi Model**\n",
        "---\n",
        "\n",
        "Setelah model selesai dilatih, langkah berikutnya adalah mengevaluasi performanya pada **test set**.\n",
        "\n",
        "Evaluasi dilakukan menggunakan dua pendekatan utama:\n",
        "\n",
        "1. **Classification Report**  \n",
        "   Menampilkan metrik klasifikasi seperti:\n",
        "   - **Precision**: Seberapa akurat model saat membuat prediksi positif.\n",
        "   - **Recall**: Seberapa baik model menangkap semua sampel positif.\n",
        "   - **F1-Score**: Harmoni antara precision dan recall.\n",
        "   - **Accuracy**: Persentase prediksi yang benar dari semua prediksi.\n",
        "\n",
        "2. **Confusion Matrix**  \n",
        "   Menunjukkan jumlah prediksi benar dan salah untuk masing-masing kelas, dalam bentuk tabel.  \n",
        "   Dengan confusion matrix, kita bisa melihat pola kesalahan model (misal, apakah model sering salah membedakan \"rock\" dengan \"paper\", dll).\n",
        "\n",
        "---\n",
        "\n",
        "#### Langkah-langkah yang dilakukan pada kode:\n",
        "\n",
        "- Menggunakan model untuk melakukan prediksi pada seluruh test dataset.\n",
        "- Membandingkan hasil prediksi dengan label asli.\n",
        "- Menampilkan classification report menggunakan `classification_report` dari scikit-learn.\n",
        "- Menghitung dan memvisualisasikan confusion matrix menggunakan `ConfusionMatrixDisplay`.\n",
        "\n",
        "> **Catatan untuk praktikan:**  \n",
        "> Perhatikan nilai **precision**, **recall**, dan **f1-score** dari masing-masing kelas.  \n",
        "> Jika terdapat ketidakseimbangan performa antar kelas, analisis kemungkinan penyebabnya (misalnya karena jumlah data tidak seimbang, kesamaan visual antar kelas, dsb).\n"
      ]
    },
    {
      "cell_type": "code",
      "execution_count": 5,
      "id": "b89597f1",
      "metadata": {
        "colab": {
          "base_uri": "https://localhost:8080/",
          "height": 827
        },
        "id": "b89597f1",
        "outputId": "d37aa0e8-de4f-430f-df35-712d344d873b"
      },
      "outputs": [
        {
          "name": "stdout",
          "output_type": "stream",
          "text": [
            "\u001b[1m11/11\u001b[0m \u001b[32m━━━━━━━━━━━━━━━━━━━━\u001b[0m\u001b[37m\u001b[0m \u001b[1m82s\u001b[0m 5s/step\n",
            "=== Classification Report ===\n",
            "              precision    recall  f1-score   support\n",
            "\n",
            "       paper     0.9913    1.0000    0.9956       114\n",
            "        rock     1.0000    0.9912    0.9956       113\n",
            "    scissors     1.0000    1.0000    1.0000       109\n",
            "\n",
            "    accuracy                         0.9970       336\n",
            "   macro avg     0.9971    0.9971    0.9971       336\n",
            "weighted avg     0.9970    0.9970    0.9970       336\n",
            "\n"
          ]
        },
        {
          "data": {
            "image/png": "[encoded data removed]",
            "text/plain": [
              "<Figure size 600x600 with 1 Axes>"
            ]
          },
          "metadata": {},
          "output_type": "display_data"
        }
      ],
      "source": [
        "import numpy as np\n",
        "import matplotlib.pyplot as plt\n",
        "from sklearn.metrics import (\n",
        "    classification_report,\n",
        "    confusion_matrix,\n",
        "    ConfusionMatrixDisplay\n",
        ")\n",
        "\n",
        "# dapatkan prediksi probabilitas dan label dari test set\n",
        "y_pred_probs = model.predict(test_ds)               # shape = (N, num_classes)\n",
        "y_pred = np.argmax(y_pred_probs, axis=1)             # ambil indeks prediksi tertinggi (shape: (N,))\n",
        "\n",
        "# ekstrak label asli dari test_ds\n",
        "#    Karena test_ds bertipe (x_batch, y_batch) dengan label one-hot, kita ambil argmax dari y_batch\n",
        "y_true = np.concatenate([\n",
        "    np.argmax(y.numpy(), axis=1)\n",
        "    for _, y in test_ds\n",
        "], axis=0)\n",
        "\n",
        "# tampilkan classification report\n",
        "print(\"=== Classification Report ===\")\n",
        "print(classification_report(\n",
        "    y_true,\n",
        "    y_pred,\n",
        "    target_names=classes,\n",
        "    digits=4\n",
        "))\n",
        "\n",
        "# hitung dan tampilkan confusion matrix\n",
        "cm = confusion_matrix(y_true, y_pred)\n",
        "disp = ConfusionMatrixDisplay(confusion_matrix=cm, display_labels=classes)\n",
        "\n",
        "fig, ax = plt.subplots(figsize=(6,6))\n",
        "disp.plot(ax=ax, cmap=plt.cm.Blues, colorbar=False)\n",
        "plt.title(\"Confusion Matrix\")\n",
        "plt.xticks(rotation=45, ha=\"right\")\n",
        "plt.tight_layout()\n",
        "plt.show()\n"
      ]
    },
    {
      "cell_type": "markdown",
      "id": "31e376bd",
      "metadata": {
        "id": "31e376bd"
      },
      "source": [
        "Setelah proses pelatihan selesai, model yang telah dilatih akan secara otomatis disimpan oleh callback `ModelCheckpoint` ke dalam file `.h5`.\n",
        "\n",
        "Model ini dapat langsung digunakan dalam pengembangan aplikasi backend yang menggunakan **FastAPI** atau frontend berbasis **Streamlit**, untuk membuat aplikasi klasifikasi gambar."
      ]
    }
  ],
  "metadata": {
    "accelerator": "GPU",
    "colab": {
      "gpuType": "T4",
      "provenance": []
    },
    "kernelspec": {
      "display_name": "myenv",
      "language": "python",
      "name": "python3"
    },
    "language_info": {
      "codemirror_mode": {
        "name": "ipython",
        "version": 3
      },
      "file_extension": ".py",
      "mimetype": "text/x-python",
      "name": "python",
      "nbconvert_exporter": "python",
      "pygments_lexer": "ipython3",
      "version": "3.12.7"
    }
  },
  "nbformat": 4,
  "nbformat_minor": 5
}
